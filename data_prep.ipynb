{
 "cells": [
  {
   "cell_type": "code",
   "execution_count": 94,
   "metadata": {},
   "outputs": [],
   "source": [
    "import csv\n",
    "\n",
    "import numpy as np\n",
    "import pandas as pd\n",
    "import seaborn as sns\n",
    "\n",
    "import matplotlib.pyplot as plt\n",
    "\n",
    "from scipy.stats.mstats import pearsonr\n",
    "\n",
    "from gpmap.src.inference import VCregression\n",
    "from gpmap.src.seq import guess_space_configuration, get_seqs_from_alleles"
   ]
  },
  {
   "cell_type": "code",
   "execution_count": 95,
   "metadata": {},
   "outputs": [
    {
     "data": {
      "text/html": [
       "<div>\n",
       "<style scoped>\n",
       "    .dataframe tbody tr th:only-of-type {\n",
       "        vertical-align: middle;\n",
       "    }\n",
       "\n",
       "    .dataframe tbody tr th {\n",
       "        vertical-align: top;\n",
       "    }\n",
       "\n",
       "    .dataframe thead th {\n",
       "        text-align: right;\n",
       "    }\n",
       "</style>\n",
       "<table border=\"1\" class=\"dataframe\">\n",
       "  <thead>\n",
       "    <tr style=\"text-align: right;\">\n",
       "      <th></th>\n",
       "      <th>RA_1</th>\n",
       "      <th>RA_2</th>\n",
       "      <th>m</th>\n",
       "      <th>logm</th>\n",
       "      <th>var</th>\n",
       "      <th>logvar</th>\n",
       "    </tr>\n",
       "    <tr>\n",
       "      <th>Sequences</th>\n",
       "      <th></th>\n",
       "      <th></th>\n",
       "      <th></th>\n",
       "      <th></th>\n",
       "      <th></th>\n",
       "      <th></th>\n",
       "    </tr>\n",
       "  </thead>\n",
       "  <tbody>\n",
       "    <tr>\n",
       "      <th>TATCACTGGTTGTTGGACGCTTTGGATGGGTTGAA</th>\n",
       "      <td>0.460551</td>\n",
       "      <td>0.663284</td>\n",
       "      <td>0.561918</td>\n",
       "      <td>-0.592941</td>\n",
       "      <td>0.091101</td>\n",
       "      <td>0.066532</td>\n",
       "    </tr>\n",
       "    <tr>\n",
       "      <th>TATCACAGGTTGTAAACCATTTTGGATGGGTTGAA</th>\n",
       "      <td>0.280813</td>\n",
       "      <td>0.447017</td>\n",
       "      <td>0.363915</td>\n",
       "      <td>-1.037613</td>\n",
       "      <td>0.077624</td>\n",
       "      <td>0.108070</td>\n",
       "    </tr>\n",
       "    <tr>\n",
       "      <th>TATCACATGGTGTTGGACGTTTTGGATGGGTCGAA</th>\n",
       "      <td>0.061078</td>\n",
       "      <td>0.072578</td>\n",
       "      <td>0.066828</td>\n",
       "      <td>-2.709347</td>\n",
       "      <td>0.050132</td>\n",
       "      <td>0.014879</td>\n",
       "    </tr>\n",
       "    <tr>\n",
       "      <th>TATCACTTGTCTTAGGAGACAATGGATGGGTCGAA</th>\n",
       "      <td>0.531630</td>\n",
       "      <td>0.546976</td>\n",
       "      <td>0.539303</td>\n",
       "      <td>-0.617580</td>\n",
       "      <td>0.050235</td>\n",
       "      <td>0.000405</td>\n",
       "    </tr>\n",
       "    <tr>\n",
       "      <th>TATCACATGGTTTTAGACGTTATGGATGGGTCGAA</th>\n",
       "      <td>0.206064</td>\n",
       "      <td>0.242848</td>\n",
       "      <td>0.224456</td>\n",
       "      <td>-1.497445</td>\n",
       "      <td>0.051353</td>\n",
       "      <td>0.013489</td>\n",
       "    </tr>\n",
       "  </tbody>\n",
       "</table>\n",
       "</div>"
      ],
      "text/plain": [
       "                                         RA_1      RA_2         m      logm  \\\n",
       "Sequences                                                                     \n",
       "TATCACTGGTTGTTGGACGCTTTGGATGGGTTGAA  0.460551  0.663284  0.561918 -0.592941   \n",
       "TATCACAGGTTGTAAACCATTTTGGATGGGTTGAA  0.280813  0.447017  0.363915 -1.037613   \n",
       "TATCACATGGTGTTGGACGTTTTGGATGGGTCGAA  0.061078  0.072578  0.066828 -2.709347   \n",
       "TATCACTTGTCTTAGGAGACAATGGATGGGTCGAA  0.531630  0.546976  0.539303 -0.617580   \n",
       "TATCACATGGTTTTAGACGTTATGGATGGGTCGAA  0.206064  0.242848  0.224456 -1.497445   \n",
       "\n",
       "                                          var    logvar  \n",
       "Sequences                                                \n",
       "TATCACTGGTTGTTGGACGCTTTGGATGGGTTGAA  0.091101  0.066532  \n",
       "TATCACAGGTTGTAAACCATTTTGGATGGGTTGAA  0.077624  0.108070  \n",
       "TATCACATGGTGTTGGACGTTTTGGATGGGTCGAA  0.050132  0.014879  \n",
       "TATCACTTGTCTTAGGAGACAATGGATGGGTCGAA  0.050235  0.000405  \n",
       "TATCACATGGTTTTAGACGTTATGGATGGGTCGAA  0.051353  0.013489  "
      ]
     },
     "execution_count": 95,
     "metadata": {},
     "output_type": "execute_result"
    }
   ],
   "source": [
    "fpath = 'Rotrattanadumrong_2022_ligase_ribz_evolution/Filtered_reads_files/Filtered_LibWT_Mut_R1_R2_QS20_tolerance_1.csv'\n",
    "data = pd.read_csv(fpath, usecols=['Sequences', 'RA_1', 'RA_2'], index_col=0)\n",
    "data['m'], data['logm'], data['var'], data['logvar'] = data.mean(1), np.log(data).mean(1), data.var(1)*2 + 0.05, np.log(data).var(1)\n",
    "data.head()"
   ]
  },
  {
   "cell_type": "code",
   "execution_count": 96,
   "metadata": {},
   "outputs": [
    {
     "name": "stderr",
     "output_type": "stream",
     "text": [
      "/home/martigo/miniconda3/envs/gpmap/lib/python3.7/site-packages/ipykernel_launcher.py:13: RuntimeWarning: divide by zero encountered in log\n",
      "  del sys.path[0]\n"
     ]
    },
    {
     "data": {
      "image/png": "[encoded data removed]",
      "text/plain": [
       "<Figure size 648x216 with 3 Axes>"
      ]
     },
     "metadata": {
      "needs_background": "light"
     },
     "output_type": "display_data"
    }
   ],
   "source": [
    "fig, subplots = plt.subplots(1, 3, figsize=(9, 3))\n",
    "\n",
    "axes = subplots[0]\n",
    "sns.histplot(x=data['logm'].values, ax=axes, bins=30)\n",
    "axes.set(xlabel=r'$\\log(RA)_{mean}$', ylabel=r'# genotypes')\n",
    "\n",
    "axes = subplots[1]\n",
    "sns.histplot(x=data['logm'].values,\n",
    "             y=data['logvar'].values, ax=axes)\n",
    "axes.set(xlabel=r'$\\log(RA)_{mean}$', ylabel=r'$\\log(RA)_{var}$', yscale='log')\n",
    "\n",
    "axes = subplots[2]\n",
    "sns.histplot(x=np.log(data['RA_1'].values),\n",
    "             y=np.log(data['RA_2'].values), ax=axes)\n",
    "axes.set(xlabel=r'$\\log(RA_{1})$', ylabel=r'$\\log(RA_{2})$')\n",
    "fig.tight_layout()"
   ]
  },
  {
   "cell_type": "code",
   "execution_count": 97,
   "metadata": {
    "scrolled": true
   },
   "outputs": [
    {
     "data": {
      "text/html": [
       "<div>\n",
       "<style scoped>\n",
       "    .dataframe tbody tr th:only-of-type {\n",
       "        vertical-align: middle;\n",
       "    }\n",
       "\n",
       "    .dataframe tbody tr th {\n",
       "        vertical-align: top;\n",
       "    }\n",
       "\n",
       "    .dataframe thead th {\n",
       "        text-align: right;\n",
       "    }\n",
       "</style>\n",
       "<table border=\"1\" class=\"dataframe\">\n",
       "  <thead>\n",
       "    <tr style=\"text-align: right;\">\n",
       "      <th></th>\n",
       "      <th>RA_1</th>\n",
       "      <th>RA_2</th>\n",
       "      <th>m</th>\n",
       "      <th>logm</th>\n",
       "      <th>var</th>\n",
       "      <th>logvar</th>\n",
       "      <th>seq</th>\n",
       "      <th>binary</th>\n",
       "    </tr>\n",
       "    <tr>\n",
       "      <th>Sequences</th>\n",
       "      <th></th>\n",
       "      <th></th>\n",
       "      <th></th>\n",
       "      <th></th>\n",
       "      <th></th>\n",
       "      <th></th>\n",
       "      <th></th>\n",
       "      <th></th>\n",
       "    </tr>\n",
       "  </thead>\n",
       "  <tbody>\n",
       "    <tr>\n",
       "      <th>TATCACAGCGCGTAAAACACAATGGATGGGTCGAA</th>\n",
       "      <td>0.296563</td>\n",
       "      <td>0.312593</td>\n",
       "      <td>0.304578</td>\n",
       "      <td>-1.189173</td>\n",
       "      <td>0.050257</td>\n",
       "      <td>0.001386</td>\n",
       "      <td>AGCGCGAAAACACAAC</td>\n",
       "      <td>BABBBABBBAABABBB</td>\n",
       "    </tr>\n",
       "    <tr>\n",
       "      <th>TATCACAGCGCGTAAAACACAATGGATGGGTTGAA</th>\n",
       "      <td>0.317296</td>\n",
       "      <td>0.371002</td>\n",
       "      <td>0.344149</td>\n",
       "      <td>-1.069733</td>\n",
       "      <td>0.052884</td>\n",
       "      <td>0.012226</td>\n",
       "      <td>AGCGCGAAAACACAAT</td>\n",
       "      <td>BABBBABBBAABABBA</td>\n",
       "    </tr>\n",
       "    <tr>\n",
       "      <th>TATCACAGCGCGTAAAACACATTGGATGGGTCGAA</th>\n",
       "      <td>0.280970</td>\n",
       "      <td>0.270548</td>\n",
       "      <td>0.275759</td>\n",
       "      <td>-1.288407</td>\n",
       "      <td>0.050109</td>\n",
       "      <td>0.000714</td>\n",
       "      <td>AGCGCGAAAACACATC</td>\n",
       "      <td>BABBBABBBAABABAB</td>\n",
       "    </tr>\n",
       "    <tr>\n",
       "      <th>TATCACAGCGCGTAAAACACATTGGATGGGTTGAA</th>\n",
       "      <td>0.319805</td>\n",
       "      <td>0.397730</td>\n",
       "      <td>0.358768</td>\n",
       "      <td>-1.031013</td>\n",
       "      <td>0.056072</td>\n",
       "      <td>0.023776</td>\n",
       "      <td>AGCGCGAAAACACATT</td>\n",
       "      <td>BABBBABBBAABABAA</td>\n",
       "    </tr>\n",
       "    <tr>\n",
       "      <th>TATCACAGCGCGTAAAACACTATGGATGGGTCGAA</th>\n",
       "      <td>0.506120</td>\n",
       "      <td>0.559888</td>\n",
       "      <td>0.533004</td>\n",
       "      <td>-0.630500</td>\n",
       "      <td>0.052891</td>\n",
       "      <td>0.005097</td>\n",
       "      <td>AGCGCGAAAACACTAC</td>\n",
       "      <td>BABBBABBBAABAABB</td>\n",
       "    </tr>\n",
       "  </tbody>\n",
       "</table>\n",
       "</div>"
      ],
      "text/plain": [
       "                                         RA_1      RA_2         m      logm  \\\n",
       "Sequences                                                                     \n",
       "TATCACAGCGCGTAAAACACAATGGATGGGTCGAA  0.296563  0.312593  0.304578 -1.189173   \n",
       "TATCACAGCGCGTAAAACACAATGGATGGGTTGAA  0.317296  0.371002  0.344149 -1.069733   \n",
       "TATCACAGCGCGTAAAACACATTGGATGGGTCGAA  0.280970  0.270548  0.275759 -1.288407   \n",
       "TATCACAGCGCGTAAAACACATTGGATGGGTTGAA  0.319805  0.397730  0.358768 -1.031013   \n",
       "TATCACAGCGCGTAAAACACTATGGATGGGTCGAA  0.506120  0.559888  0.533004 -0.630500   \n",
       "\n",
       "                                          var    logvar               seq  \\\n",
       "Sequences                                                                   \n",
       "TATCACAGCGCGTAAAACACAATGGATGGGTCGAA  0.050257  0.001386  AGCGCGAAAACACAAC   \n",
       "TATCACAGCGCGTAAAACACAATGGATGGGTTGAA  0.052884  0.012226  AGCGCGAAAACACAAT   \n",
       "TATCACAGCGCGTAAAACACATTGGATGGGTCGAA  0.050109  0.000714  AGCGCGAAAACACATC   \n",
       "TATCACAGCGCGTAAAACACATTGGATGGGTTGAA  0.056072  0.023776  AGCGCGAAAACACATT   \n",
       "TATCACAGCGCGTAAAACACTATGGATGGGTCGAA  0.052891  0.005097  AGCGCGAAAACACTAC   \n",
       "\n",
       "                                               binary  \n",
       "Sequences                                              \n",
       "TATCACAGCGCGTAAAACACAATGGATGGGTCGAA  BABBBABBBAABABBB  \n",
       "TATCACAGCGCGTAAAACACAATGGATGGGTTGAA  BABBBABBBAABABBA  \n",
       "TATCACAGCGCGTAAAACACATTGGATGGGTCGAA  BABBBABBBAABABAB  \n",
       "TATCACAGCGCGTAAAACACATTGGATGGGTTGAA  BABBBABBBAABABAA  \n",
       "TATCACAGCGCGTAAAACACTATGGATGGGTCGAA  BABBBABBBAABAABB  "
      ]
     },
     "execution_count": 97,
     "metadata": {},
     "output_type": "execute_result"
    }
   ],
   "source": [
    "config = guess_space_configuration(data.index)\n",
    "a = [x > 1 for x in config['n_alleles']]\n",
    "alleles = config['alphabet']\n",
    "data['seq'] = [''.join([x for x, y in zip(seq, a) if y]) for seq in data.index]\n",
    "binary_alleles = 'AB'\n",
    "data['binary'] = [''.join([binary_alleles[z.index(x)] for x, y, z in zip(seq, a, alleles) if y]) for seq in data.index]\n",
    "data.sort_values('seq', inplace=True)\n",
    "data.head()"
   ]
  },
  {
   "cell_type": "code",
   "execution_count": 98,
   "metadata": {},
   "outputs": [
    {
     "data": {
      "text/plain": [
       "((60536, 8), (5000, 8))"
      ]
     },
     "execution_count": 98,
     "metadata": {},
     "output_type": "execute_result"
    }
   ],
   "source": [
    "np.random.seed(3)\n",
    "ntest = 5000\n",
    "seqs = data.index.values\n",
    "np.random.shuffle(seqs)\n",
    "train, test = data.loc[seqs[:-ntest], :], data.loc[seqs[-ntest:], :]\n",
    "train.shape, test.shape"
   ]
  },
  {
   "cell_type": "code",
   "execution_count": 99,
   "metadata": {},
   "outputs": [],
   "source": [
    "def plot_lambdas(vc):\n",
    "    k = np.arange(1, vc.lambdas.shape[0])\n",
    "    fig, axes = plt.subplots(1, 1, figsize=(4, 3))\n",
    "    axes.plot(k, vc.lambdas[1:], c='purple', lw=1)\n",
    "    axes.scatter(k, vc.lambdas[1:], c='purple')\n",
    "    axes.set(xlabel=r'Interaction order $k$', ylabel=r'$\\lambda_k$',\n",
    "             yscale='log', xticks=k)"
   ]
  },
  {
   "cell_type": "code",
   "execution_count": 100,
   "metadata": {},
   "outputs": [
    {
     "name": "stderr",
     "output_type": "stream",
     "text": [
      "100%|███████████████████████████████████████████████████████████████████████████████████████████████████| 10/10 [00:25<00:00,  2.55s/it]\n"
     ]
    },
    {
     "data": {
      "text/plain": [
       "array([5.92619873e+03, 4.50015601e+01, 7.55879526e+00, 1.27055030e+00,\n",
       "       2.13813811e-01, 3.59996434e-02, 6.06226948e-03, 1.02086854e-03,\n",
       "       1.71903686e-04, 2.89318084e-05, 4.86815174e-06, 8.19384182e-07,\n",
       "       1.37966047e-07, 2.32245625e-08, 3.91438497e-09, 6.60069680e-10,\n",
       "       1.11274936e-10])"
      ]
     },
     "execution_count": 100,
     "metadata": {},
     "output_type": "execute_result"
    }
   ],
   "source": [
    "vc = VCregression()\n",
    "vc.fit(train['binary'].values, y=train['m'].values,\n",
    "       variance=train['var'].values, cross_validation=True)"
   ]
  },
  {
   "cell_type": "code",
   "execution_count": 101,
   "metadata": {},
   "outputs": [
    {
     "data": {
      "image/png": "[encoded data removed]",
      "text/plain": [
       "<Figure size 288x216 with 1 Axes>"
      ]
     },
     "metadata": {
      "needs_background": "light"
     },
     "output_type": "display_data"
    }
   ],
   "source": [
    "plot_lambdas(vc)"
   ]
  },
  {
   "cell_type": "code",
   "execution_count": 85,
   "metadata": {},
   "outputs": [],
   "source": [
    "# Remove very high order components\n",
    "#vc.lambdas[np.argmin(vc.lambdas):] = np.min(vc.lambdas)\n",
    "#plot_lambdas(vc)"
   ]
  },
  {
   "cell_type": "code",
   "execution_count": 102,
   "metadata": {},
   "outputs": [
    {
     "data": {
      "text/html": [
       "<div>\n",
       "<style scoped>\n",
       "    .dataframe tbody tr th:only-of-type {\n",
       "        vertical-align: middle;\n",
       "    }\n",
       "\n",
       "    .dataframe tbody tr th {\n",
       "        vertical-align: top;\n",
       "    }\n",
       "\n",
       "    .dataframe thead th {\n",
       "        text-align: right;\n",
       "    }\n",
       "</style>\n",
       "<table border=\"1\" class=\"dataframe\">\n",
       "  <thead>\n",
       "    <tr style=\"text-align: right;\">\n",
       "      <th></th>\n",
       "      <th>RA_1</th>\n",
       "      <th>RA_2</th>\n",
       "      <th>m</th>\n",
       "      <th>logm</th>\n",
       "      <th>var</th>\n",
       "      <th>logvar</th>\n",
       "      <th>seq</th>\n",
       "      <th>binary</th>\n",
       "      <th>ypred</th>\n",
       "    </tr>\n",
       "    <tr>\n",
       "      <th>Sequences</th>\n",
       "      <th></th>\n",
       "      <th></th>\n",
       "      <th></th>\n",
       "      <th></th>\n",
       "      <th></th>\n",
       "      <th></th>\n",
       "      <th></th>\n",
       "      <th></th>\n",
       "      <th></th>\n",
       "    </tr>\n",
       "  </thead>\n",
       "  <tbody>\n",
       "    <tr>\n",
       "      <th>TATCACTTCTTTTAGACGGTATTGGATGGGTCGAA</th>\n",
       "      <td>0.296563</td>\n",
       "      <td>0.312593</td>\n",
       "      <td>0.304578</td>\n",
       "      <td>-1.189173</td>\n",
       "      <td>0.050257</td>\n",
       "      <td>0.001386</td>\n",
       "      <td>AGCGCGAAAACACAAC</td>\n",
       "      <td>BABBBABBBAABABBB</td>\n",
       "      <td>0.321429</td>\n",
       "    </tr>\n",
       "    <tr>\n",
       "      <th>TATCACATGGTGTTAGACACAATGGATGGGTTGAA</th>\n",
       "      <td>0.317296</td>\n",
       "      <td>0.371002</td>\n",
       "      <td>0.344149</td>\n",
       "      <td>-1.069733</td>\n",
       "      <td>0.052884</td>\n",
       "      <td>0.012226</td>\n",
       "      <td>AGCGCGAAAACACAAT</td>\n",
       "      <td>BABBBABBBAABABBA</td>\n",
       "      <td>0.341551</td>\n",
       "    </tr>\n",
       "    <tr>\n",
       "      <th>TATCACTGGGTGTAGAAGATTATGGATGGGTCGAA</th>\n",
       "      <td>0.280970</td>\n",
       "      <td>0.270548</td>\n",
       "      <td>0.275759</td>\n",
       "      <td>-1.288407</td>\n",
       "      <td>0.050109</td>\n",
       "      <td>0.000714</td>\n",
       "      <td>AGCGCGAAAACACATC</td>\n",
       "      <td>BABBBABBBAABABAB</td>\n",
       "      <td>0.306648</td>\n",
       "    </tr>\n",
       "    <tr>\n",
       "      <th>TATCACTTGGCTTTAAAGGCAATGGATGGGTTGAA</th>\n",
       "      <td>0.319805</td>\n",
       "      <td>0.397730</td>\n",
       "      <td>0.358768</td>\n",
       "      <td>-1.031013</td>\n",
       "      <td>0.056072</td>\n",
       "      <td>0.023776</td>\n",
       "      <td>AGCGCGAAAACACATT</td>\n",
       "      <td>BABBBABBBAABABAA</td>\n",
       "      <td>0.327286</td>\n",
       "    </tr>\n",
       "    <tr>\n",
       "      <th>TATCACTTCGCTTTAACCATATTGGATGGGTCGAA</th>\n",
       "      <td>0.506120</td>\n",
       "      <td>0.559888</td>\n",
       "      <td>0.533004</td>\n",
       "      <td>-0.630500</td>\n",
       "      <td>0.052891</td>\n",
       "      <td>0.005097</td>\n",
       "      <td>AGCGCGAAAACACTAC</td>\n",
       "      <td>BABBBABBBAABAABB</td>\n",
       "      <td>0.440704</td>\n",
       "    </tr>\n",
       "  </tbody>\n",
       "</table>\n",
       "</div>"
      ],
      "text/plain": [
       "                                         RA_1      RA_2         m      logm  \\\n",
       "Sequences                                                                     \n",
       "TATCACTTCTTTTAGACGGTATTGGATGGGTCGAA  0.296563  0.312593  0.304578 -1.189173   \n",
       "TATCACATGGTGTTAGACACAATGGATGGGTTGAA  0.317296  0.371002  0.344149 -1.069733   \n",
       "TATCACTGGGTGTAGAAGATTATGGATGGGTCGAA  0.280970  0.270548  0.275759 -1.288407   \n",
       "TATCACTTGGCTTTAAAGGCAATGGATGGGTTGAA  0.319805  0.397730  0.358768 -1.031013   \n",
       "TATCACTTCGCTTTAACCATATTGGATGGGTCGAA  0.506120  0.559888  0.533004 -0.630500   \n",
       "\n",
       "                                          var    logvar               seq  \\\n",
       "Sequences                                                                   \n",
       "TATCACTTCTTTTAGACGGTATTGGATGGGTCGAA  0.050257  0.001386  AGCGCGAAAACACAAC   \n",
       "TATCACATGGTGTTAGACACAATGGATGGGTTGAA  0.052884  0.012226  AGCGCGAAAACACAAT   \n",
       "TATCACTGGGTGTAGAAGATTATGGATGGGTCGAA  0.050109  0.000714  AGCGCGAAAACACATC   \n",
       "TATCACTTGGCTTTAAAGGCAATGGATGGGTTGAA  0.056072  0.023776  AGCGCGAAAACACATT   \n",
       "TATCACTTCGCTTTAACCATATTGGATGGGTCGAA  0.052891  0.005097  AGCGCGAAAACACTAC   \n",
       "\n",
       "                                               binary     ypred  \n",
       "Sequences                                                        \n",
       "TATCACTTCTTTTAGACGGTATTGGATGGGTCGAA  BABBBABBBAABABBB  0.321429  \n",
       "TATCACATGGTGTTAGACACAATGGATGGGTTGAA  BABBBABBBAABABBA  0.341551  \n",
       "TATCACTGGGTGTAGAAGATTATGGATGGGTCGAA  BABBBABBBAABABAB  0.306648  \n",
       "TATCACTTGGCTTTAAAGGCAATGGATGGGTTGAA  BABBBABBBAABABAA  0.327286  \n",
       "TATCACTTCGCTTTAACCATATTGGATGGGTCGAA  BABBBABBBAABAABB  0.440704  "
      ]
     },
     "execution_count": 102,
     "metadata": {},
     "output_type": "execute_result"
    }
   ],
   "source": [
    "pred = vc.predict()\n",
    "pred_data = data.join(pred, on='binary')\n",
    "pred_data.head()"
   ]
  },
  {
   "cell_type": "code",
   "execution_count": 103,
   "metadata": {},
   "outputs": [
    {
     "data": {
      "image/png": "[encoded data removed]",
      "text/plain": [
       "<Figure size 432x216 with 2 Axes>"
      ]
     },
     "metadata": {
      "needs_background": "light"
     },
     "output_type": "display_data"
    }
   ],
   "source": [
    "predtest = pred_data.loc[test.index.values, :]\n",
    "\n",
    "fig, subplots = plt.subplots(1, 2, figsize=(6, 3))\n",
    "\n",
    "axes = subplots[0]\n",
    "sns.histplot(x=predtest['ypred'].values, ax=axes)\n",
    "axes.set(xlabel='Avg pred RA', ylabel='Number of genotypes')\n",
    "\n",
    "\n",
    "axes = subplots[1]\n",
    "sns.histplot(x=predtest['ypred'].values, y=predtest['m'].values, cmap='Blues') # , log_scale=True\n",
    "axes.set(xlabel='VC predicted RA', ylabel='Avg observed RA')\n",
    "\n",
    "r2 = pearsonr(predtest['ypred'].values, predtest['m'].values)[0] ** 2\n",
    "axes.text(0.0005, 1.1, r'$R^2$=' + '{:.2f}'.format(r2))\n",
    "fig.tight_layout()"
   ]
  },
  {
   "cell_type": "code",
   "execution_count": 40,
   "metadata": {},
   "outputs": [],
   "source": [
    "pred.columns = ['RA']\n",
    "pred.to_csv('RA.vc.csv', quoting=csv.QUOTE_NONNUMERIC)"
   ]
  },
  {
   "cell_type": "code",
   "execution_count": 104,
   "metadata": {},
   "outputs": [],
   "source": [
    "pred_data.set_index('seq')[['ypred']].to_csv('RA.pred.csv')\n",
    "pred_data.set_index('binary')[['m', 'var']].to_csv('RA.data.csv', )"
   ]
  },
  {
   "cell_type": "code",
   "execution_count": 94,
   "metadata": {},
   "outputs": [
    {
     "data": {
      "text/html": [
       "<div>\n",
       "<style scoped>\n",
       "    .dataframe tbody tr th:only-of-type {\n",
       "        vertical-align: middle;\n",
       "    }\n",
       "\n",
       "    .dataframe tbody tr th {\n",
       "        vertical-align: top;\n",
       "    }\n",
       "\n",
       "    .dataframe thead th {\n",
       "        text-align: right;\n",
       "    }\n",
       "</style>\n",
       "<table border=\"1\" class=\"dataframe\">\n",
       "  <thead>\n",
       "    <tr style=\"text-align: right;\">\n",
       "      <th></th>\n",
       "      <th>RA_1</th>\n",
       "      <th>RA_2</th>\n",
       "      <th>m</th>\n",
       "      <th>var</th>\n",
       "      <th>seq</th>\n",
       "      <th>binary</th>\n",
       "      <th>ypred</th>\n",
       "    </tr>\n",
       "    <tr>\n",
       "      <th>Sequences</th>\n",
       "      <th></th>\n",
       "      <th></th>\n",
       "      <th></th>\n",
       "      <th></th>\n",
       "      <th></th>\n",
       "      <th></th>\n",
       "      <th></th>\n",
       "    </tr>\n",
       "  </thead>\n",
       "  <tbody>\n",
       "    <tr>\n",
       "      <th>TATCACAGCGCGTAAAACACAATGGATGGGTCGAA</th>\n",
       "      <td>0.296563</td>\n",
       "      <td>0.312593</td>\n",
       "      <td>0.304578</td>\n",
       "      <td>0.000128</td>\n",
       "      <td>AGCGCGAAAACACAAC</td>\n",
       "      <td>0000000000000000</td>\n",
       "      <td>0.226319</td>\n",
       "    </tr>\n",
       "    <tr>\n",
       "      <th>TATCACAGCGCGTAAAACACAATGGATGGGTTGAA</th>\n",
       "      <td>0.317296</td>\n",
       "      <td>0.371002</td>\n",
       "      <td>0.344149</td>\n",
       "      <td>0.001442</td>\n",
       "      <td>AGCGCGAAAACACAAT</td>\n",
       "      <td>0000000000000001</td>\n",
       "      <td>0.234680</td>\n",
       "    </tr>\n",
       "    <tr>\n",
       "      <th>TATCACAGCGCGTAAAACACATTGGATGGGTCGAA</th>\n",
       "      <td>0.280970</td>\n",
       "      <td>0.270548</td>\n",
       "      <td>0.275759</td>\n",
       "      <td>0.000054</td>\n",
       "      <td>AGCGCGAAAACACATC</td>\n",
       "      <td>0000000000000010</td>\n",
       "      <td>0.205863</td>\n",
       "    </tr>\n",
       "    <tr>\n",
       "      <th>TATCACAGCGCGTAAAACACATTGGATGGGTTGAA</th>\n",
       "      <td>0.319805</td>\n",
       "      <td>0.397730</td>\n",
       "      <td>0.358768</td>\n",
       "      <td>0.003036</td>\n",
       "      <td>AGCGCGAAAACACATT</td>\n",
       "      <td>0000000000000011</td>\n",
       "      <td>0.216155</td>\n",
       "    </tr>\n",
       "    <tr>\n",
       "      <th>TATCACAGCGCGTAAAACACTATGGATGGGTCGAA</th>\n",
       "      <td>0.506120</td>\n",
       "      <td>0.559888</td>\n",
       "      <td>0.533004</td>\n",
       "      <td>0.001445</td>\n",
       "      <td>AGCGCGAAAACACTAC</td>\n",
       "      <td>0000000000000100</td>\n",
       "      <td>0.347327</td>\n",
       "    </tr>\n",
       "  </tbody>\n",
       "</table>\n",
       "</div>"
      ],
      "text/plain": [
       "                                         RA_1      RA_2         m       var  \\\n",
       "Sequences                                                                     \n",
       "TATCACAGCGCGTAAAACACAATGGATGGGTCGAA  0.296563  0.312593  0.304578  0.000128   \n",
       "TATCACAGCGCGTAAAACACAATGGATGGGTTGAA  0.317296  0.371002  0.344149  0.001442   \n",
       "TATCACAGCGCGTAAAACACATTGGATGGGTCGAA  0.280970  0.270548  0.275759  0.000054   \n",
       "TATCACAGCGCGTAAAACACATTGGATGGGTTGAA  0.319805  0.397730  0.358768  0.003036   \n",
       "TATCACAGCGCGTAAAACACTATGGATGGGTCGAA  0.506120  0.559888  0.533004  0.001445   \n",
       "\n",
       "                                                  seq            binary  \\\n",
       "Sequences                                                                 \n",
       "TATCACAGCGCGTAAAACACAATGGATGGGTCGAA  AGCGCGAAAACACAAC  0000000000000000   \n",
       "TATCACAGCGCGTAAAACACAATGGATGGGTTGAA  AGCGCGAAAACACAAT  0000000000000001   \n",
       "TATCACAGCGCGTAAAACACATTGGATGGGTCGAA  AGCGCGAAAACACATC  0000000000000010   \n",
       "TATCACAGCGCGTAAAACACATTGGATGGGTTGAA  AGCGCGAAAACACATT  0000000000000011   \n",
       "TATCACAGCGCGTAAAACACTATGGATGGGTCGAA  AGCGCGAAAACACTAC  0000000000000100   \n",
       "\n",
       "                                        ypred  \n",
       "Sequences                                      \n",
       "TATCACAGCGCGTAAAACACAATGGATGGGTCGAA  0.226319  \n",
       "TATCACAGCGCGTAAAACACAATGGATGGGTTGAA  0.234680  \n",
       "TATCACAGCGCGTAAAACACATTGGATGGGTCGAA  0.205863  \n",
       "TATCACAGCGCGTAAAACACATTGGATGGGTTGAA  0.216155  \n",
       "TATCACAGCGCGTAAAACACTATGGATGGGTCGAA  0.347327  "
      ]
     },
     "execution_count": 94,
     "metadata": {},
     "output_type": "execute_result"
    }
   ],
   "source": [
    "pred_data.head()"
   ]
  },
  {
   "cell_type": "code",
   "execution_count": 24,
   "metadata": {},
   "outputs": [],
   "source": [
    "pred_data.to_csv('data.full.csv', quoting=csv.QUOTE_NONNUMERIC)"
   ]
  },
  {
   "cell_type": "code",
   "execution_count": 43,
   "metadata": {},
   "outputs": [
    {
     "name": "stderr",
     "output_type": "stream",
     "text": [
      "/home/martigo/miniconda3/envs/gpmap/lib/python3.7/site-packages/pandas/core/arraylike.py:364: RuntimeWarning: invalid value encountered in log10\n",
      "  result = getattr(ufunc, method)(*inputs, **kwargs)\n",
      "/home/martigo/miniconda3/envs/gpmap/lib/python3.7/site-packages/pandas/core/arraylike.py:364: RuntimeWarning: invalid value encountered in log10\n",
      "  result = getattr(ufunc, method)(*inputs, **kwargs)\n"
     ]
    },
    {
     "data": {
      "image/png": "[encoded data removed]",
      "text/plain": [
       "<Figure size 432x216 with 2 Axes>"
      ]
     },
     "metadata": {
      "needs_background": "light"
     },
     "output_type": "display_data"
    }
   ],
   "source": [
    "fig, subplots = plt.subplots(1, 2, figsize=(6, 3))\n",
    "\n",
    "axes = subplots[0]\n",
    "sns.histplot(x=pred_data['ypred'].values, ax=axes, log_scale=True)\n",
    "axes.set(xlabel='Avg observed RA', ylabel='Number of genotypes')\n",
    "\n",
    "\n",
    "axes = subplots[1]\n",
    "sns.histplot(x=pred_data['ypred'].values, y=pred_data['m'].values, cmap='Blues', log_scale=True)\n",
    "axes.set(xlabel='VC predicted RA', ylabel='Avg observed RA')\n",
    "\n",
    "fig.tight_layout()"
   ]
  },
  {
   "cell_type": "code",
   "execution_count": null,
   "metadata": {},
   "outputs": [],
   "source": []
  }
 ],
 "metadata": {
  "kernelspec": {
   "display_name": "Python 3 (ipykernel)",
   "language": "python",
   "name": "python3"
  },
  "language_info": {
   "codemirror_mode": {
    "name": "ipython",
    "version": 3
   },
   "file_extension": ".py",
   "mimetype": "text/x-python",
   "name": "python",
   "nbconvert_exporter": "python",
   "pygments_lexer": "ipython3",
   "version": "3.7.11"
  }
 },
 "nbformat": 4,
 "nbformat_minor": 4
}
