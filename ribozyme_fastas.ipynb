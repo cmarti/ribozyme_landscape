{
 "cells": [
  {
   "cell_type": "code",
   "execution_count": 20,
   "id": "1f2d38a4",
   "metadata": {},
   "outputs": [],
   "source": [
    "import Bio\n",
    "import pandas as pd\n",
    "import numpy as np"
   ]
  },
  {
   "cell_type": "code",
   "execution_count": 21,
   "id": "dd5c1a38",
   "metadata": {},
   "outputs": [
    {
     "name": "stdout",
     "output_type": "stream",
     "text": [
      "                                          ,0\n",
      "0      0,UAUCACAGCGCGUAAACGGUUAUGGAUGGGUCGAA\n",
      "1      1,UAUCACAGCGCGUAAACGGUUAUGGAUGGGUUGAA\n",
      "2      2,UAUCACAGCGCGUAAGCGGUUAUGGAUGGGUUGAA\n",
      "3      3,UAUCACAGCGCGUAGACGGUUAUGGAUGGGUCGAA\n",
      "4      4,UAUCACAGCGCGUAGACGGUUAUGGAUGGGUUGAA\n",
      "..                                       ...\n",
      "651  651,UAUCACUUGUUGUAAGACAUUUUGGAUGGGUUGAA\n",
      "652  652,UAUCACUUGUUGUUGAACAUUUUGGAUGGGUCGAA\n",
      "653  653,UAUCACUUGUUUUAGAACACUUUGGAUGGGUUGAA\n",
      "654  654,UAUCACUUGUUUUAGGACACUUUGGAUGGGUUGAA\n",
      "655  655,UAUCACUUGUUUUUGGACACUUUGGAUGGGUUGAA\n",
      "\n",
      "[656 rows x 1 columns]\n"
     ]
    }
   ],
   "source": [
    "# load in the data\n",
    "data = pd.read_csv(\"peak_ribozyme_sequences\",sep='\\t')\n",
    "print(data)"
   ]
  },
  {
   "cell_type": "code",
   "execution_count": 22,
   "id": "cff24092",
   "metadata": {},
   "outputs": [],
   "source": [
    "seqs = []\n",
    "for i in range(len(data[\",0\"])-1):\n",
    "    x = data[\",0\"][i].split(\",\")[1]\n",
    "    y = x.rstrip(x[-1])\n",
    "    z = y[:5] + \"U\" + y[5:]\n",
    "    seqs.append(z)"
   ]
  },
  {
   "cell_type": "code",
   "execution_count": 31,
   "id": "ef38be17",
   "metadata": {},
   "outputs": [],
   "source": [
    "p53_dbd = \"WPLSSSVPSQKTYQGSYGFRLGFLHSGTAKSVTCTYSPALNKMFCQLAKTCPVQLWVDSTPPPGTRVRAMAIYKQSQHMTEVVRRCPHHERCSDSDGLAPPQHLIRVEGNLRVEYLDDRNTFRHSVVVPYEPPEVGSDCTTIHYNYMCNSSCMGGMNRRPILTIITLEDSSGNLLGRNSFEVRVCACPGRDRRTEEENLRKKGEPHHELP\""
   ]
  },
  {
   "cell_type": "code",
   "execution_count": 49,
   "id": "0f3ae0c0",
   "metadata": {},
   "outputs": [
    {
     "name": "stdout",
     "output_type": "stream",
     "text": [
      "Done\n"
     ]
    }
   ],
   "source": [
    "with open(\"ribozyme_list_for_conversion.txt\",\"w\") as fp:\n",
    "    for i in range(len(seqs)-1):\n",
    "        fp.write(seqs[i])\n",
    "        fp.write('\\n')\n",
    "    print(\"Done\")"
   ]
  },
  {
   "cell_type": "code",
   "execution_count": null,
   "id": "b43422f4",
   "metadata": {},
   "outputs": [],
   "source": []
  },
  {
   "cell_type": "code",
   "execution_count": null,
   "id": "400a9e7f",
   "metadata": {},
   "outputs": [],
   "source": []
  }
 ],
 "metadata": {
  "kernelspec": {
   "display_name": "Python 3 (ipykernel)",
   "language": "python",
   "name": "python3"
  },
  "language_info": {
   "codemirror_mode": {
    "name": "ipython",
    "version": 3
   },
   "file_extension": ".py",
   "mimetype": "text/x-python",
   "name": "python",
   "nbconvert_exporter": "python",
   "pygments_lexer": "ipython3",
   "version": "3.7.16"
  }
 },
 "nbformat": 4,
 "nbformat_minor": 5
}
